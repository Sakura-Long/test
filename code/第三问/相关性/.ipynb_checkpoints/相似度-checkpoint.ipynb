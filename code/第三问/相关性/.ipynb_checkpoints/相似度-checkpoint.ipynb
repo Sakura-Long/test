{
 "cells": [
  {
   "cell_type": "code",
   "execution_count": 247,
   "metadata": {},
   "outputs": [],
   "source": [
    "import numpy as np\n",
    "import pandas as pd\n",
    "import os\n",
    "import re"
   ]
  },
  {
   "cell_type": "code",
   "execution_count": 248,
   "metadata": {},
   "outputs": [],
   "source": [
    "os.chdir('C:/Users/64672/Desktop/C题全部数据')"
   ]
  },
  {
   "cell_type": "code",
   "execution_count": 253,
   "metadata": {},
   "outputs": [],
   "source": [
    "df=pd.read_excel('主题2.xlsx',encoding='gbk')"
   ]
  },
  {
   "cell_type": "code",
   "execution_count": 254,
   "metadata": {},
   "outputs": [],
   "source": [
    "df1=df.loc[:,['留言编号','主题']]"
   ]
  },
  {
   "cell_type": "code",
   "execution_count": 259,
   "metadata": {},
   "outputs": [],
   "source": [
    "df1['主题']=df1['主题'].apply(lambda x: re.sub('[^\\u4E00-\\u9FD5]+',',',x))"
   ]
  },
  {
   "cell_type": "code",
   "execution_count": 262,
   "metadata": {},
   "outputs": [],
   "source": [
    "df1['主题']=df1['主题'].apply(lambda x: x[1:-1])"
   ]
  },
  {
   "cell_type": "code",
   "execution_count": 263,
   "metadata": {},
   "outputs": [
    {
     "data": {
      "text/plain": [
       "0       业主,业委会,停车,意见,辖区,街道,业主大会,建设局,情况,坪,业委会,业主大会,业主,情...\n",
       "1       施工,道路,项目,排水,渠道,换填,坪塘,大道,管线,土方,施工,排水,项目,道路,集镇,土...\n",
       "2       幼儿园,教师,待遇,民办,提高,依法,学前教育,监管,保障,推进,民办,待遇,教师,幼儿园,...\n",
       "3       购房,首次,市,补贴,含,情况,万元,住房,房屋交易,购买,购房,市,含,补贴,首次,商品,...\n",
       "4       市民,来信,小学,马坡岭,取消,支持,关心,保留,感谢,不宜,马坡岭,小学,来信,市民,原马...\n",
       "                              ...                        \n",
       "2746                收悉,已转,区,区委,人民政府,调查,调查,人民政府,区委,区,已转,收悉\n",
       "2747                      收悉,调查,转市,交通运输,局,局,交通运输,转市,调查,收悉\n",
       "2748    学生,社团,社团活动,学校,小学,家长,课程,文盛,调查,有利于,学生,学校,社团活动,社团...\n",
       "2749    资金,转移,支付,情况,燃油税,交通运输,中央,年,养护,亿元,资金,支付,燃油税,转移,年...\n",
       "2750    交通运输,项目,单位,规划,建设,前期工作,公路,厅,主管部门,督促,交通运输,项目,厅,公...\n",
       "Name: 主题, Length: 2751, dtype: object"
      ]
     },
     "execution_count": 263,
     "metadata": {},
     "output_type": "execute_result"
    }
   ],
   "source": [
    "df1['主题']"
   ]
  },
  {
   "cell_type": "code",
   "execution_count": null,
   "metadata": {},
   "outputs": [],
   "source": []
  },
  {
   "cell_type": "code",
   "execution_count": 264,
   "metadata": {},
   "outputs": [],
   "source": [
    "df2=pd.read_excel('附件4.xlsx')"
   ]
  },
  {
   "cell_type": "code",
   "execution_count": 265,
   "metadata": {},
   "outputs": [],
   "source": [
    "import jieba"
   ]
  },
  {
   "cell_type": "code",
   "execution_count": 269,
   "metadata": {},
   "outputs": [],
   "source": [
    "df2['留言主题']=df2['留言主题'].apply(jieba.lcut)"
   ]
  },
  {
   "cell_type": "code",
   "execution_count": 272,
   "metadata": {},
   "outputs": [],
   "source": [
    "df1['回复主题']=df1['主题'].apply(lambda x: x.split(','))"
   ]
  },
  {
   "cell_type": "code",
   "execution_count": 281,
   "metadata": {},
   "outputs": [],
   "source": [
    "df1['留言主题']=df2['留言主题']"
   ]
  },
  {
   "cell_type": "code",
   "execution_count": 284,
   "metadata": {},
   "outputs": [],
   "source": [
    "del df1['主题']"
   ]
  },
  {
   "cell_type": "code",
   "execution_count": 295,
   "metadata": {},
   "outputs": [],
   "source": [
    "with open('C:/Users/64672/Desktop/Python/stopwords.txt','r',encoding='gbk') as f:\n",
    "    stop=f.read()\n",
    "stop=stop.split()\n",
    "df1['留言主题']=df1['留言主题'].apply(lambda x:[i for i in x if i not in stop])"
   ]
  },
  {
   "cell_type": "code",
   "execution_count": 285,
   "metadata": {},
   "outputs": [],
   "source": [
    "#计算中文编辑距离 str1和str2 是经过分词的\n",
    "def edit_similar(str1,str2):\n",
    "    len_str1=len(str1)\n",
    "    len_str2=len(str2)\n",
    "    taglist=np.zeros((len_str1+1,len_str2+1))\n",
    "    for a in range(len_str1):\n",
    "        taglist[a][0]=a\n",
    "    for a in range(len_str2):\n",
    "        taglist[0][a] = a\n",
    "    for i in range(1,len_str1+1):\n",
    "        for j in range(1,len_str2+1):\n",
    "            if(str1[i - 1] == str2[j - 1]):\n",
    "                temp = 0\n",
    "            else:\n",
    "                temp = 1\n",
    "            taglist[i][j] = min(taglist[i - 1][j - 1] + temp, taglist[i][j - 1] + 1, taglist[i - 1][j] + 1)\n",
    "    return 1-taglist[len_str1][len_str2] / max(len_str1, len_str2)"
   ]
  },
  {
   "cell_type": "code",
   "execution_count": 286,
   "metadata": {},
   "outputs": [],
   "source": [
    "#计算余弦相似度\n",
    "def cos_dist(str1,str2):\n",
    "    key_word = list(set(str1 + str2))\n",
    "     # 给定形状和类型的用0填充的矩阵存储向量\n",
    "    word_vector1 = np.zeros(len(key_word))\n",
    "    word_vector2 = np.zeros(len(key_word))\n",
    "\n",
    "    # 计算词频\n",
    "    # 依次确定向量的每个位置的值\n",
    "    for i in range(len(key_word)):\n",
    "        # 遍历key_word中每个词在句子中的出现次数\n",
    "        for j in range(len(str1)):\n",
    "            if key_word[i] == str1[j]:\n",
    "                word_vector1[i] += 1\n",
    "        for k in range(len(str2)):\n",
    "            if key_word[i] == str2[k]:\n",
    "                word_vector2[i] += 1\n",
    "\n",
    "\n",
    "    dist1=float(np.dot(word_vector1,word_vector2)/(np.linalg.norm(word_vector1)*np.linalg.norm(word_vector2)))\n",
    "    return dist1"
   ]
  },
  {
   "cell_type": "code",
   "execution_count": 287,
   "metadata": {},
   "outputs": [],
   "source": [
    "#余弦相似度赋予权值0.7，编辑距离赋予权重0.3\n",
    "def compare(str1,str2):\n",
    "    cos_result=cos_dist(str1,str2)\n",
    "    edit_result=edit_similar(str1,str2)\n",
    "    return cos_result*0.7 + edit_result*0.3"
   ]
  },
  {
   "cell_type": "code",
   "execution_count": 307,
   "metadata": {},
   "outputs": [],
   "source": [
    "f_similar=[]\n",
    "for i in range(len(df1)):\n",
    "    a=compare(df1['留言主题'][i],df1['回复主题'][i])\n",
    "    f_similar.append(a)"
   ]
  },
  {
   "cell_type": "code",
   "execution_count": 313,
   "metadata": {},
   "outputs": [],
   "source": [
    "df1['相似度']=f_similar"
   ]
  },
  {
   "cell_type": "code",
   "execution_count": 314,
   "metadata": {},
   "outputs": [],
   "source": [
    "df1.to_excel('相似度.xlsx',index=False)"
   ]
  },
  {
   "cell_type": "code",
   "execution_count": null,
   "metadata": {},
   "outputs": [],
   "source": []
  },
  {
   "cell_type": "code",
   "execution_count": null,
   "metadata": {},
   "outputs": [],
   "source": []
  }
 ],
 "metadata": {
  "kernelspec": {
   "display_name": "Python 3",
   "language": "python",
   "name": "python3"
  },
  "language_info": {
   "codemirror_mode": {
    "name": "ipython",
    "version": 3
   },
   "file_extension": ".py",
   "mimetype": "text/x-python",
   "name": "python",
   "nbconvert_exporter": "python",
   "pygments_lexer": "ipython3",
   "version": "3.7.1"
  }
 },
 "nbformat": 4,
 "nbformat_minor": 2
}
