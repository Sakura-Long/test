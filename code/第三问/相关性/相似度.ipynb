{
 "cells": [
  {
   "cell_type": "code",
   "execution_count": 24,
   "metadata": {},
   "outputs": [],
   "source": [
    "import numpy as np\n",
    "import pandas as pd\n",
    "import os\n",
    "import re"
   ]
  },
  {
   "cell_type": "code",
   "execution_count": 25,
   "metadata": {},
   "outputs": [],
   "source": [
    "#os.chdir('C:/Users/64672/Desktop/C题全部数据')"
   ]
  },
  {
   "cell_type": "code",
   "execution_count": 26,
   "metadata": {},
   "outputs": [],
   "source": [
    "df=pd.read_excel('主题2.xlsx',encoding='gbk')"
   ]
  },
  {
   "cell_type": "code",
   "execution_count": 27,
   "metadata": {},
   "outputs": [],
   "source": [
    "df1=df.loc[:,['留言编号','主题']]"
   ]
  },
  {
   "cell_type": "code",
   "execution_count": 28,
   "metadata": {},
   "outputs": [],
   "source": [
    "df1['主题']=df1['主题'].apply(lambda x: re.sub('[^\\u4E00-\\u9FD5]+',',',x))"
   ]
  },
  {
   "cell_type": "code",
   "execution_count": 29,
   "metadata": {},
   "outputs": [],
   "source": [
    "df1['主题']=df1['主题'].apply(lambda x: x[1:-1])"
   ]
  },
  {
   "cell_type": "code",
   "execution_count": 30,
   "metadata": {},
   "outputs": [
    {
     "data": {
      "text/plain": [
       "0       业委会,业主大会,业主,意见,停车,情况,住房,坪,书记,工作,业委会,业主,业主大会,情况...\n",
       "1       施工,项目,排水,道路,大道,土方,坪塘,渠道,管线,换填,施工,道路,排水,项目,集镇,换...\n",
       "2       教师,幼儿园,民办,待遇,学前教育,依法,提高,监管,教职工,推进,待遇,民办,幼儿园,教师...\n",
       "3       购房,市,补贴,首次,含,房屋交易,情况,万元,住房,商品,购房,市,含,首次,补贴,回复,...\n",
       "4       马坡岭,来信,小学,站名,周边,收悉,市民,具体内容,变更,不宜,市民,小学,来信,马坡岭,...\n",
       "                              ...                        \n",
       "2811                收悉,人民政府,已转,区,调查,区委,区委,调查,区,已转,人民政府,收悉\n",
       "2812                      局,交通运输,收悉,转市,调查,调查,转市,收悉,交通运输,局\n",
       "2813    学生,社团,学校,社团活动,小学,课程,文盛,有利于,家长,调查,学生,社团活动,学校,社团...\n",
       "2814    资金,支付,转移,燃油税,年,情况,市州,中央,养护,亿元,资金,支付,情况,燃油税,转移,...\n",
       "2815    交通运输,项目,建设,前期工作,公路,单位,厅,规划,发展,工作进度,交通运输,项目,规划,...\n",
       "Name: 主题, Length: 2816, dtype: object"
      ]
     },
     "execution_count": 30,
     "metadata": {},
     "output_type": "execute_result"
    }
   ],
   "source": [
    "df1['主题']"
   ]
  },
  {
   "cell_type": "code",
   "execution_count": null,
   "metadata": {},
   "outputs": [],
   "source": []
  },
  {
   "cell_type": "code",
   "execution_count": 31,
   "metadata": {},
   "outputs": [],
   "source": [
    "df2=pd.read_excel('附件4.xlsx')"
   ]
  },
  {
   "cell_type": "code",
   "execution_count": 32,
   "metadata": {},
   "outputs": [],
   "source": [
    "import jieba"
   ]
  },
  {
   "cell_type": "code",
   "execution_count": 33,
   "metadata": {},
   "outputs": [],
   "source": [
    "df2['留言主题']=df2['留言主题'].apply(jieba.lcut)"
   ]
  },
  {
   "cell_type": "code",
   "execution_count": 34,
   "metadata": {},
   "outputs": [],
   "source": [
    "df1['回复主题']=df1['主题'].apply(lambda x: x.split(','))"
   ]
  },
  {
   "cell_type": "code",
   "execution_count": 35,
   "metadata": {},
   "outputs": [],
   "source": [
    "df1['留言主题']=df2['留言主题']"
   ]
  },
  {
   "cell_type": "code",
   "execution_count": 36,
   "metadata": {},
   "outputs": [],
   "source": [
    "del df1['主题']"
   ]
  },
  {
   "cell_type": "code",
   "execution_count": 37,
   "metadata": {},
   "outputs": [
    {
     "name": "stderr",
     "output_type": "stream",
     "text": [
      "D:\\Anaconda3\\lib\\site-packages\\ipykernel_launcher.py:6: ParserWarning: Falling back to the 'python' engine because the 'c' engine does not support regex separators (separators > 1 char and different from '\\s+' are interpreted as regex); you can avoid this warning by specifying engine='python'.\n",
      "  \n"
     ]
    }
   ],
   "source": [
    "'''\n",
    "with open('E:/MY_COMPETE/2020挑战杯/C题数据&代码/第三问/stopwords.txt','r',encoding='gbk') as f:\n",
    "    stop=f.read()\n",
    "stop=stop.split()\n",
    "'''\n",
    "stopWords = pd.read_csv('stopword.txt', encoding='GB18030', sep='hahaha', header=None)\n",
    "#列表使用+拼接\n",
    "stopWords = [' ', '\\n', '\\t', '\\r\\n', '\\u3000', '＂', '–','现将','在','的','您好','你好','您','网友','留言','已收悉','：',\n",
    "                '反映','的问题','平台','同志','现','领导'] + list(stopWords.iloc[:, 0])\n",
    "df1['留言主题']=df1['留言主题'].apply(lambda x:[i for i in x if i not in stopWords])"
   ]
  },
  {
   "cell_type": "code",
   "execution_count": 38,
   "metadata": {},
   "outputs": [],
   "source": [
    "#计算中文编辑距离 str1和str2 是经过分词的\n",
    "def edit_similar(str1,str2):\n",
    "    len_str1=len(str1)\n",
    "    len_str2=len(str2)\n",
    "    taglist=np.zeros((len_str1+1,len_str2+1))\n",
    "    for a in range(len_str1):\n",
    "        taglist[a][0]=a\n",
    "    for a in range(len_str2):\n",
    "        taglist[0][a] = a\n",
    "    for i in range(1,len_str1+1):\n",
    "        for j in range(1,len_str2+1):\n",
    "            if(str1[i - 1] == str2[j - 1]):\n",
    "                temp = 0\n",
    "            else:\n",
    "                temp = 1\n",
    "            taglist[i][j] = min(taglist[i - 1][j - 1] + temp, taglist[i][j - 1] + 1, taglist[i - 1][j] + 1)\n",
    "    return 1-taglist[len_str1][len_str2] / max(len_str1, len_str2)"
   ]
  },
  {
   "cell_type": "code",
   "execution_count": 39,
   "metadata": {},
   "outputs": [],
   "source": [
    "#计算余弦相似度\n",
    "def cos_dist(str1,str2):\n",
    "    key_word = list(set(str1 + str2))\n",
    "     # 给定形状和类型的用0填充的矩阵存储向量\n",
    "    word_vector1 = np.zeros(len(key_word))\n",
    "    word_vector2 = np.zeros(len(key_word))\n",
    "\n",
    "    # 计算词频\n",
    "    # 依次确定向量的每个位置的值\n",
    "    for i in range(len(key_word)):\n",
    "        # 遍历key_word中每个词在句子中的出现次数\n",
    "        for j in range(len(str1)):\n",
    "            if key_word[i] == str1[j]:\n",
    "                word_vector1[i] += 1\n",
    "        for k in range(len(str2)):\n",
    "            if key_word[i] == str2[k]:\n",
    "                word_vector2[i] += 1\n",
    "\n",
    "\n",
    "    dist1=float(np.dot(word_vector1,word_vector2)/(np.linalg.norm(word_vector1)*np.linalg.norm(word_vector2)))\n",
    "    return dist1"
   ]
  },
  {
   "cell_type": "code",
   "execution_count": 40,
   "metadata": {},
   "outputs": [],
   "source": [
    "#余弦相似度赋予权值0.7，编辑距离赋予权重0.3\n",
    "def compare(str1,str2):\n",
    "    cos_result=cos_dist(str1,str2)\n",
    "    edit_result=edit_similar(str1,str2)\n",
    "    return cos_result*0.7 + edit_result*0.3"
   ]
  },
  {
   "cell_type": "code",
   "execution_count": 41,
   "metadata": {},
   "outputs": [],
   "source": [
    "f_similar=[]\n",
    "for i in range(len(df1)):\n",
    "    a=compare(df1['留言主题'][i],df1['回复主题'][i])\n",
    "    f_similar.append(a)"
   ]
  },
  {
   "cell_type": "code",
   "execution_count": 42,
   "metadata": {},
   "outputs": [],
   "source": [
    "df1['相似度']=f_similar"
   ]
  },
  {
   "cell_type": "code",
   "execution_count": 43,
   "metadata": {},
   "outputs": [],
   "source": [
    "df1.to_excel('相似度.xlsx',index=False)"
   ]
  },
  {
   "cell_type": "code",
   "execution_count": null,
   "metadata": {},
   "outputs": [],
   "source": []
  },
  {
   "cell_type": "code",
   "execution_count": null,
   "metadata": {},
   "outputs": [],
   "source": []
  }
 ],
 "metadata": {
  "kernelspec": {
   "display_name": "Python 3",
   "language": "python",
   "name": "python3"
  },
  "language_info": {
   "codemirror_mode": {
    "name": "ipython",
    "version": 3
   },
   "file_extension": ".py",
   "mimetype": "text/x-python",
   "name": "python",
   "nbconvert_exporter": "python",
   "pygments_lexer": "ipython3",
   "version": "3.7.1"
  }
 },
 "nbformat": 4,
 "nbformat_minor": 2
}
