{
 "cells": [
  {
   "cell_type": "code",
   "execution_count": 1,
   "metadata": {},
   "outputs": [],
   "source": [
    "import numpy as np\n",
    "import pandas as pd\n",
    "import os\n",
    "import re"
   ]
  },
  {
   "cell_type": "code",
   "execution_count": 8,
   "metadata": {},
   "outputs": [],
   "source": [
    "data1 = pd.read_excel('相似度.xlsx',encoding='gbk')\n",
    "data2 = pd.read_csv('增加可解释性词.csv',  encoding = 'GB18030')\n",
    "data_new = pd.concat([data1, data2], axis=1)                          #横向拼接\n",
    "data_new\n",
    "data_new.to_excel('准备计分.xlsx',encoding = 'GB18030')"
   ]
  },
  {
   "cell_type": "code",
   "execution_count": 47,
   "metadata": {},
   "outputs": [
    {
     "data": {
      "text/plain": [
       "dtype('O')"
      ]
     },
     "execution_count": 47,
     "metadata": {},
     "output_type": "execute_result"
    }
   ],
   "source": [
    "score = pd.read_excel('计分.xlsx',encoding='gbk',index=False)\n",
    "score['可解释性词'].dtype"
   ]
  },
  {
   "cell_type": "code",
   "execution_count": 18,
   "metadata": {},
   "outputs": [],
   "source": [
    "def first_end(x):\n",
    "    if '完整' in x:\n",
    "        a = 0.3\n",
    "    else:\n",
    "        a = 0\n",
    "    return a"
   ]
  },
  {
   "cell_type": "code",
   "execution_count": 48,
   "metadata": {},
   "outputs": [],
   "source": [
    "def complete(x):\n",
    "    if '已解决' in x:\n",
    "        a = 0.4\n",
    "    else:\n",
    "        a = 0\n",
    "    return a"
   ]
  },
  {
   "cell_type": "code",
   "execution_count": 54,
   "metadata": {},
   "outputs": [],
   "source": [
    "def conj(x):\n",
    "    if len(x)> 2:\n",
    "        a = 1\n",
    "    else:\n",
    "        a = 0\n",
    "    return a"
   ]
  },
  {
   "cell_type": "code",
   "execution_count": 55,
   "metadata": {},
   "outputs": [],
   "source": [
    "score['f_score']=score['f_first'].apply(lambda x: first_end(x) )\n",
    "score['e_score']=score['f_end'].apply(lambda x: first_end(x) )\n",
    "score['com_score']=score['f_complete'].apply(lambda x: complete(x) )\n",
    "score['conj_score']=score['可解释性词'].apply(lambda x: conj(x) )"
   ]
  },
  {
   "cell_type": "code",
   "execution_count": 58,
   "metadata": {},
   "outputs": [],
   "source": [
    "score.to_excel('正在计分.xlsx',encoding = 'GB18030',index = False)"
   ]
  },
  {
   "cell_type": "code",
   "execution_count": null,
   "metadata": {},
   "outputs": [],
   "source": []
  }
 ],
 "metadata": {
  "kernelspec": {
   "display_name": "Python 3",
   "language": "python",
   "name": "python3"
  },
  "language_info": {
   "codemirror_mode": {
    "name": "ipython",
    "version": 3
   },
   "file_extension": ".py",
   "mimetype": "text/x-python",
   "name": "python",
   "nbconvert_exporter": "python",
   "pygments_lexer": "ipython3",
   "version": "3.7.1"
  }
 },
 "nbformat": 4,
 "nbformat_minor": 2
}
