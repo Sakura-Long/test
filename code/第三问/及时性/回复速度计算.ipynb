{
 "cells": [
  {
   "cell_type": "code",
   "execution_count": 3,
   "metadata": {},
   "outputs": [],
   "source": [
    "import numpy as np\n",
    "import pandas as pd\n",
    "import os"
   ]
  },
  {
   "cell_type": "code",
   "execution_count": 4,
   "metadata": {},
   "outputs": [],
   "source": [
    "os.chdir('C:/Users/64672/Desktop/C题全部数据')"
   ]
  },
  {
   "cell_type": "code",
   "execution_count": 62,
   "metadata": {},
   "outputs": [],
   "source": [
    "df=pd.read_excel('附件4.xlsx')"
   ]
  },
  {
   "cell_type": "code",
   "execution_count": 63,
   "metadata": {},
   "outputs": [
    {
     "data": {
      "text/html": [
       "<div>\n",
       "<style scoped>\n",
       "    .dataframe tbody tr th:only-of-type {\n",
       "        vertical-align: middle;\n",
       "    }\n",
       "\n",
       "    .dataframe tbody tr th {\n",
       "        vertical-align: top;\n",
       "    }\n",
       "\n",
       "    .dataframe thead th {\n",
       "        text-align: right;\n",
       "    }\n",
       "</style>\n",
       "<table border=\"1\" class=\"dataframe\">\n",
       "  <thead>\n",
       "    <tr style=\"text-align: right;\">\n",
       "      <th></th>\n",
       "      <th>留言编号</th>\n",
       "      <th>留言用户</th>\n",
       "      <th>留言主题</th>\n",
       "      <th>留言时间</th>\n",
       "      <th>留言详情</th>\n",
       "      <th>答复意见</th>\n",
       "      <th>答复时间</th>\n",
       "    </tr>\n",
       "  </thead>\n",
       "  <tbody>\n",
       "    <tr>\n",
       "      <td>0</td>\n",
       "      <td>2549</td>\n",
       "      <td>A00045581</td>\n",
       "      <td>A2区景蓉华苑物业管理有问题</td>\n",
       "      <td>2019/4/25 9:32:09</td>\n",
       "      <td>\\n\\t\\t\\t\\t\\t\\n\\t\\t\\t\\t\\t2019年4月以来，位于A市A2区桂花坪街道...</td>\n",
       "      <td>现将网友在平台《问政西地省》栏目向胡华衡书记留言反映“A2区景蓉花苑物业管理有问题”的调查核...</td>\n",
       "      <td>2019/5/10 14:56:53</td>\n",
       "    </tr>\n",
       "    <tr>\n",
       "      <td>1</td>\n",
       "      <td>2554</td>\n",
       "      <td>A00023583</td>\n",
       "      <td>A3区潇楚南路洋湖段怎么还没修好？</td>\n",
       "      <td>2019/4/24 16:03:40</td>\n",
       "      <td>\\n\\t\\t\\t\\t\\t\\n\\t\\t\\t\\t\\t潇楚南路从2018年开始修，到现在都快一年了...</td>\n",
       "      <td>网友“A00023583”：您好！针对您反映A3区潇楚南路洋湖段怎么还没修好的问题,A3区洋...</td>\n",
       "      <td>2019/5/9 9:49:10</td>\n",
       "    </tr>\n",
       "    <tr>\n",
       "      <td>2</td>\n",
       "      <td>2555</td>\n",
       "      <td>A00031618</td>\n",
       "      <td>请加快提高A市民营幼儿园老师的待遇</td>\n",
       "      <td>2019/4/24 15:40:04</td>\n",
       "      <td>\\n\\t\\t\\t\\t\\t\\n\\t\\t\\t\\t\\t地处省会A市民营幼儿园众多，小孩是祖国的未来...</td>\n",
       "      <td>市民同志：你好！您反映的“请加快提高民营幼儿园教师的待遇”的来信已收悉。现回复如下：为了改善...</td>\n",
       "      <td>2019/5/9 9:49:14</td>\n",
       "    </tr>\n",
       "    <tr>\n",
       "      <td>3</td>\n",
       "      <td>2557</td>\n",
       "      <td>A000110735</td>\n",
       "      <td>在A市买公寓能享受人才新政购房补贴吗？</td>\n",
       "      <td>2019/4/24 15:07:30</td>\n",
       "      <td>\\n\\t\\t\\t\\t\\t\\n\\t\\t\\t\\t\\t尊敬的书记：您好！我研究生毕业后根据人才新政...</td>\n",
       "      <td>网友“A000110735”：您好！您在平台《问政西地省》上的留言已收悉，市住建局及时将您反...</td>\n",
       "      <td>2019/5/9 9:49:42</td>\n",
       "    </tr>\n",
       "    <tr>\n",
       "      <td>4</td>\n",
       "      <td>2574</td>\n",
       "      <td>A0009233</td>\n",
       "      <td>关于A市公交站点名称变更的建议</td>\n",
       "      <td>2019/4/23 17:03:19</td>\n",
       "      <td>\\n\\t\\t\\t\\t\\t\\n\\t\\t\\t\\t\\t建议将“白竹坡路口”更名为“马坡岭小学”，原...</td>\n",
       "      <td>网友“A0009233”，您好，您的留言已收悉，现将具体内容答复如下：关于来信人建议“白竹坡...</td>\n",
       "      <td>2019/5/9 9:51:30</td>\n",
       "    </tr>\n",
       "  </tbody>\n",
       "</table>\n",
       "</div>"
      ],
      "text/plain": [
       "   留言编号        留言用户                 留言主题                留言时间  \\\n",
       "0  2549   A00045581       A2区景蓉华苑物业管理有问题   2019/4/25 9:32:09   \n",
       "1  2554   A00023583    A3区潇楚南路洋湖段怎么还没修好？  2019/4/24 16:03:40   \n",
       "2  2555   A00031618    请加快提高A市民营幼儿园老师的待遇  2019/4/24 15:40:04   \n",
       "3  2557  A000110735  在A市买公寓能享受人才新政购房补贴吗？  2019/4/24 15:07:30   \n",
       "4  2574    A0009233      关于A市公交站点名称变更的建议  2019/4/23 17:03:19   \n",
       "\n",
       "                                                留言详情  \\\n",
       "0  \\n\\t\\t\\t\\t\\t\\n\\t\\t\\t\\t\\t2019年4月以来，位于A市A2区桂花坪街道...   \n",
       "1  \\n\\t\\t\\t\\t\\t\\n\\t\\t\\t\\t\\t潇楚南路从2018年开始修，到现在都快一年了...   \n",
       "2  \\n\\t\\t\\t\\t\\t\\n\\t\\t\\t\\t\\t地处省会A市民营幼儿园众多，小孩是祖国的未来...   \n",
       "3  \\n\\t\\t\\t\\t\\t\\n\\t\\t\\t\\t\\t尊敬的书记：您好！我研究生毕业后根据人才新政...   \n",
       "4  \\n\\t\\t\\t\\t\\t\\n\\t\\t\\t\\t\\t建议将“白竹坡路口”更名为“马坡岭小学”，原...   \n",
       "\n",
       "                                                答复意见                答复时间  \n",
       "0  现将网友在平台《问政西地省》栏目向胡华衡书记留言反映“A2区景蓉花苑物业管理有问题”的调查核...  2019/5/10 14:56:53  \n",
       "1  网友“A00023583”：您好！针对您反映A3区潇楚南路洋湖段怎么还没修好的问题,A3区洋...    2019/5/9 9:49:10  \n",
       "2  市民同志：你好！您反映的“请加快提高民营幼儿园教师的待遇”的来信已收悉。现回复如下：为了改善...    2019/5/9 9:49:14  \n",
       "3  网友“A000110735”：您好！您在平台《问政西地省》上的留言已收悉，市住建局及时将您反...    2019/5/9 9:49:42  \n",
       "4  网友“A0009233”，您好，您的留言已收悉，现将具体内容答复如下：关于来信人建议“白竹坡...    2019/5/9 9:51:30  "
      ]
     },
     "execution_count": 63,
     "metadata": {},
     "output_type": "execute_result"
    }
   ],
   "source": [
    "df.head()"
   ]
  },
  {
   "cell_type": "code",
   "execution_count": 64,
   "metadata": {},
   "outputs": [],
   "source": [
    "df['留言时间']=pd.to_datetime(df['留言时间'])\n",
    "df['答复时间']=pd.to_datetime(df['答复时间'])"
   ]
  },
  {
   "cell_type": "code",
   "execution_count": 65,
   "metadata": {},
   "outputs": [],
   "source": [
    "df['回复速度']=df['答复时间']-df['留言时间']"
   ]
  },
  {
   "cell_type": "code",
   "execution_count": 66,
   "metadata": {},
   "outputs": [],
   "source": [
    "df['回复速度']=(df['回复速度']/np.timedelta64(1,'D')).astype(int)"
   ]
  },
  {
   "cell_type": "code",
   "execution_count": 36,
   "metadata": {},
   "outputs": [
    {
     "data": {
      "text/plain": [
       "0.0       0.0\n",
       "0.2       3.0\n",
       "0.4       8.0\n",
       "0.6      14.0\n",
       "0.8      26.0\n",
       "1.0    1160.0\n",
       "Name: 回复速度, dtype: float64"
      ]
     },
     "execution_count": 36,
     "metadata": {},
     "output_type": "execute_result"
    }
   ],
   "source": [
    "df['回复速度'].quantile([0,0.2,0.4,0.6,0.8,1])"
   ]
  }
 ],
 "metadata": {
  "kernelspec": {
   "display_name": "Python 3",
   "language": "python",
   "name": "python3"
  },
  "language_info": {
   "codemirror_mode": {
    "name": "ipython",
    "version": 3
   },
   "file_extension": ".py",
   "mimetype": "text/x-python",
   "name": "python",
   "nbconvert_exporter": "python",
   "pygments_lexer": "ipython3",
   "version": "3.7.4"
  }
 },
 "nbformat": 4,
 "nbformat_minor": 2
}
