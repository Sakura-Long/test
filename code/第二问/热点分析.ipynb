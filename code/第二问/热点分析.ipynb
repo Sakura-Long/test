{
 "cells": [
  {
   "cell_type": "code",
   "execution_count": null,
   "metadata": {},
   "outputs": [],
   "source": [
    "import numpy as np\n",
    "import pandas as pd\n",
    "import jieba\n",
    "import os\n",
    "import re"
   ]
  },
  {
   "cell_type": "code",
   "execution_count": null,
   "metadata": {},
   "outputs": [],
   "source": [
    "os.chdir('C:/Users/64672/Desktop')"
   ]
  },
  {
   "cell_type": "markdown",
   "metadata": {},
   "source": [
    "预处理"
   ]
  },
  {
   "cell_type": "code",
   "execution_count": null,
   "metadata": {},
   "outputs": [],
   "source": [
    "data2 = pd.read_excel('地点或人物/伊景园.xlsx')"
   ]
  },
  {
   "cell_type": "code",
   "execution_count": null,
   "metadata": {},
   "outputs": [],
   "source": [
    "data2['留言详情'] = data2['留言详情'].apply(lambda x : re.sub('\\n','',str(x)))\n",
    "data2['留言详情'] = data2['留言详情'].apply(lambda x : re.sub('\\t','',str(x)))\n",
    "data2['留言详情'] = data2['留言详情'].apply(lambda x : re.sub('\\r','',str(x)))\n",
    "data2['留言详情'] = data2['留言详情'].apply(lambda x : re.sub('\\s','',str(x)))\n",
    "data2['留言详情'] = data2['留言详情'].apply(lambda x : re.sub('http[A-Za-z:/.]+','',str(x)))"
   ]
  },
  {
   "cell_type": "markdown",
   "metadata": {},
   "source": [
    "分词 （留言主题）"
   ]
  },
  {
   "cell_type": "code",
   "execution_count": null,
   "metadata": {},
   "outputs": [],
   "source": [
    "with open('Python/stopwords.txt','r',encoding='gbk') as f:\n",
    "    stop=f.read()\n",
    "stop=stop.split()"
   ]
  },
  {
   "cell_type": "code",
   "execution_count": null,
   "metadata": {},
   "outputs": [],
   "source": [
    "data2['topic']=data2['留言主题'].apply(jieba.lcut)\n",
    "data2_cut=data2['topic'].apply(lambda x:[i for i in x if i not in stop])\n",
    "data2_cut=data2_cut*2  #给留言主题比较大的权重"
   ]
  },
  {
   "cell_type": "markdown",
   "metadata": {},
   "source": [
    "关键词"
   ]
  },
  {
   "cell_type": "code",
   "execution_count": null,
   "metadata": {},
   "outputs": [],
   "source": [
    "import jieba.analyse\n",
    "key=[]\n",
    "for i in data2['留言详情']:\n",
    "    keywords=jieba.analyse.extract_tags(i,topK=20)\n",
    "    key.append(keywords)\n",
    "data2['key']=key"
   ]
  },
  {
   "cell_type": "code",
   "execution_count": null,
   "metadata": {},
   "outputs": [],
   "source": [
    "data2['key']=data2['key'].apply(lambda x:[i for i in x if i not in stop])"
   ]
  },
  {
   "cell_type": "markdown",
   "metadata": {},
   "source": [
    "合并关键词"
   ]
  },
  {
   "cell_type": "code",
   "execution_count": null,
   "metadata": {},
   "outputs": [],
   "source": [
    "for i in range(len(data2['key'])):\n",
    "    data2['key'][i].extend(data2_cut[i])"
   ]
  },
  {
   "cell_type": "markdown",
   "metadata": {},
   "source": [
    "计算相似度"
   ]
  },
  {
   "cell_type": "code",
   "execution_count": null,
   "metadata": {},
   "outputs": [],
   "source": [
    "all_doc_list=data2['key'].tolist()"
   ]
  },
  {
   "cell_type": "code",
   "execution_count": null,
   "metadata": {},
   "outputs": [],
   "source": [
    "from gensim import corpora,models,similarities\n",
    "dictionary = corpora.Dictionary(all_doc_list)\n",
    "corpus = [dictionary.doc2bow(doc) for doc in all_doc_list]\n",
    "tfidf = models.TfidfModel(corpus)"
   ]
  },
  {
   "cell_type": "code",
   "execution_count": null,
   "metadata": {},
   "outputs": [],
   "source": [
    "count=[]\n",
    "id=[]\n",
    "index = similarities.SparseMatrixSimilarity(tfidf[corpus], num_features=len(dictionary.keys()))\n",
    "for i in range(len(data2['留言主题'])):\n",
    "    sim = index[tfidf[corpus[i]]]\n",
    "    a=sorted(enumerate(sim), key=lambda item: -item[1])\n",
    "    a=pd.DataFrame(a)\n",
    "    count.append((a[1]>0.1).sum())\n",
    "    id.append(a.loc[a[1]>0.1,0].tolist())\n",
    "data2['count']=count\n",
    "data2['id']=id"
   ]
  },
  {
   "cell_type": "code",
   "execution_count": null,
   "metadata": {},
   "outputs": [],
   "source": [
    "new_id=[]\n",
    "for i in range(len(data2)):\n",
    "    a=set(data2.iloc[i,10])\n",
    "    for j in range(len(data2)):\n",
    "        b=set(data2.iloc[j,10])\n",
    "        if len(a&b) > 2:\n",
    "            a = a|b\n",
    "    new_id.append(a)"
   ]
  },
  {
   "cell_type": "code",
   "execution_count": null,
   "metadata": {},
   "outputs": [],
   "source": [
    "def tostr(x):\n",
    "    s=''\n",
    "    for i in x:\n",
    "        i=str(i)\n",
    "        s=s+i\n",
    "    return s"
   ]
  },
  {
   "cell_type": "code",
   "execution_count": null,
   "metadata": {},
   "outputs": [],
   "source": [
    "data2['new_id'] = new_id \n",
    "data2['new_id'] = data2['new_id'].apply(lambda x: sorted(x))\n",
    "data2['new_id2'] = data2['new_id'].apply(lambda x: tostr(x))"
   ]
  },
  {
   "cell_type": "code",
   "execution_count": null,
   "metadata": {},
   "outputs": [],
   "source": [
    "data2_new=data2.drop_duplicates(subset='new_id2')"
   ]
  },
  {
   "cell_type": "code",
   "execution_count": null,
   "metadata": {},
   "outputs": [],
   "source": [
    "data2_hot=data2.sort_values(by='new_id')\n",
    "data2_hot.drop(data2_hot.columns[[7,8,9,10,11,12]],axis=1,inplace=True)"
   ]
  },
  {
   "cell_type": "code",
   "execution_count": null,
   "metadata": {},
   "outputs": [],
   "source": [
    "data2=data2.sort_values(by='new_id')"
   ]
  },
  {
   "cell_type": "code",
   "execution_count": null,
   "metadata": {},
   "outputs": [],
   "source": [
    "hot_id=[1]\n",
    "j=1\n",
    "for i in range(1,len(data2_hot)):\n",
    "    if data2.iloc[i,12]==data2.iloc[i-1,12]:\n",
    "        hot_id.append(j)\n",
    "    else:\n",
    "        j=j+1\n",
    "        hot_id.append(j)\n",
    "data2_hot['hot_id'] = hot_id"
   ]
  },
  {
   "cell_type": "code",
   "execution_count": null,
   "metadata": {},
   "outputs": [],
   "source": [
    "data2_hot"
   ]
  },
  {
   "cell_type": "code",
   "execution_count": null,
   "metadata": {},
   "outputs": [],
   "source": [
    "data2_hot.to_excel('伊景园.xlsx',index=False)"
   ]
  }
 ],
 "metadata": {
  "kernelspec": {
   "display_name": "Python 3",
   "language": "python",
   "name": "python3"
  },
  "language_info": {
   "codemirror_mode": {
    "name": "ipython",
    "version": 3
   },
   "file_extension": ".py",
   "mimetype": "text/x-python",
   "name": "python",
   "nbconvert_exporter": "python",
   "pygments_lexer": "ipython3",
   "version": "3.7.4"
  }
 },
 "nbformat": 4,
 "nbformat_minor": 2
}
