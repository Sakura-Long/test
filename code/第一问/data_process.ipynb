{
 "cells": [
  {
   "cell_type": "code",
   "execution_count": 8,
   "metadata": {},
   "outputs": [],
   "source": [
    "# %load data_process1.py\n",
    "import pandas as pd\n",
    "import re\n",
    "import jieba.analyse\n",
    "\n",
    "def data_process(file='附件2（测试数据）.xlsx'):\n",
    "    data = pd.read_excel(file,  index_col=0,encoding = 'GB18030')\n",
    "    \n",
    "    \n",
    "    jieba.load_userdict('newdic1.txt')\n",
    "    data_cut = data['留言详情'].apply(lambda x: jieba.lcut(x))\n",
    "\n",
    "    stopWords = pd.read_csv('stopword1.txt', encoding='GB18030', sep='hahaha', header=None)\n",
    "    stopWords = [' ', '\\n', '\\t', '\\r\\n', '\\u3000', '＂', '–'] + list(stopWords.iloc[:, 0])\n",
    "    data_after_stop = data_cut.apply(lambda x: [i for i in x if i not in stopWords])\n",
    "    #labels = data_new.loc[data_after_stop.index, '一级标签']\n",
    "    adata = data_after_stop.apply(lambda x: ' '.join(x))\n",
    "    data_after_stop = data_after_stop.to_frame()\n",
    "    \n",
    "\t#提取关键词\n",
    "    key=[]\n",
    "    for i in adata:\n",
    "        keywords=jieba.analyse.extract_tags(i,topK=20)\n",
    "        key.append(keywords)\n",
    "    data_after_stop['key']=key\n",
    "    \n",
    "\t#去除城市乡镇以外的字母和0\n",
    "    key=[]\n",
    "    pattern = re.compile('[0-9]+')\n",
    "    for x in data_after_stop['key']:\n",
    "        temp=[]\n",
    "        for i in x:\n",
    "            match = pattern.findall(i)\n",
    "            if match:\n",
    "                pass\n",
    "            else:\n",
    "                temp.append(i)\n",
    "        key.append(temp)\n",
    "    data_after_stop['key']=key\n",
    "    #data_after_stop['labels']=labels\n",
    "    return adata, data_after_stop\n",
    "#adata, data_after_stop, labels = data_process()\n",
    "\n"
   ]
  },
  {
   "cell_type": "code",
   "execution_count": 11,
   "metadata": {},
   "outputs": [
    {
     "name": "stderr",
     "output_type": "stream",
     "text": [
      "D:\\Anaconda3\\lib\\site-packages\\ipykernel_launcher.py:13: ParserWarning: Falling back to the 'python' engine because the 'c' engine does not support regex separators (separators > 1 char and different from '\\s+' are interpreted as regex); you can avoid this warning by specifying engine='python'.\n",
      "  del sys.path[0]\n"
     ]
    },
    {
     "data": {
      "text/plain": [
       "留言编号\n",
       "1           A1区 苑 小区 A1区 火炬 路 小区 物业 A市 程明 物业管理 有限公司 未经 小区业...\n",
       "23          五一 大道 202 李四 LIST PUB 十点钟 营业时间 钟 结束 大声 播放 迪厅 嗨...\n",
       "26          月 地铁 号线 桐梓 坡 地铁站 交叉口 设备 发出 怪异 低 频率 噪音 扰民 日夜不停 ...\n",
       "39          地铁 号线 号线 通车 正线 剩下 号线 修 启动 号线 2022 年 号线 通车 剩下 号...\n",
       "40          投诉 A2区 福满 新城 二期 噪音 扰民 82 天 拨打 投诉 奢望 市政府 职能部门 通...\n",
       "                                  ...                        \n",
       "6056990     医生 实行 基药 乡镇 卫生院 底下 各村 驻点 撤 卫生院 高级 职工 一视同仁 保留 不...\n",
       "6665290     C3县 居民 家中 独女 老师 农民 农村 居住 读 中专 时 户口 转到 C市 区 05 ...\n",
       "16704000    步步高 E12 市店 无视 劳动法 法定 节假日 上班 14 不发 少发 加班 工资 平时 ...\n",
       "33681565    西地 省格尚 置业 有限公司 2004 年 滨江 花园 一期 土地出让 合同 办理 土地 使...\n",
       "38654898    抽空 留言 原 F市 财经 中等专业 学校 98 届 学生 学校 合并 十三 中学 找回 学...\n",
       "Name: 留言详情, Length: 2801, dtype: object"
      ]
     },
     "execution_count": 11,
     "metadata": {},
     "output_type": "execute_result"
    }
   ],
   "source": []
  },
  {
   "cell_type": "code",
   "execution_count": 14,
   "metadata": {},
   "outputs": [],
   "source": []
  },
  {
   "cell_type": "code",
   "execution_count": null,
   "metadata": {},
   "outputs": [],
   "source": []
  }
 ],
 "metadata": {
  "kernelspec": {
   "display_name": "Python 3",
   "language": "python",
   "name": "python3"
  },
  "language_info": {
   "codemirror_mode": {
    "name": "ipython",
    "version": 3
   },
   "file_extension": ".py",
   "mimetype": "text/x-python",
   "name": "python",
   "nbconvert_exporter": "python",
   "pygments_lexer": "ipython3",
   "version": "3.7.1"
  }
 },
 "nbformat": 4,
 "nbformat_minor": 2
}
